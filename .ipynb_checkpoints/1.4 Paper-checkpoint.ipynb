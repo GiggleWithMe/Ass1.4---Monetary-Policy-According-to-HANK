{
 "cells": [
  {
   "cell_type": "markdown",
   "id": "3782a968",
   "metadata": {},
   "source": [
    "# Monetary Policy According to HANK (Kaplan et. al, 2018)\n",
    "## A critical review\n",
    "#### Chris Mornement, Alice Shen, Kai Wakerman Powell"
   ]
  },
  {
   "cell_type": "markdown",
   "id": "8f8ca3c4",
   "metadata": {},
   "source": [
    "### Summary\n",
    "**Quick summary**\n",
    "\n",
    "XX\n",
    "\n",
    "**Issues & questions raised in the paper**\n",
    "\n",
    "xx \n",
    "\n",
    "**Key features of the model**\n",
    "\n",
    "xx \n",
    "\n",
    "**Results of the paper**\n",
    "\n",
    "xx "
   ]
  },
  {
   "cell_type": "markdown",
   "id": "5d9c44e0",
   "metadata": {},
   "source": [
    "* _Maximum 1 page:_ \n",
    "   * _Quick summary of (i) Issue/Question raised in the paper; (ii) Key Features of the Model; and (iii) Results of the paper._"
   ]
  },
  {
   "cell_type": "markdown",
   "id": "ea6eb882",
   "metadata": {},
   "source": [
    "### Model approach\n",
    "\n",
    "**Key aspects** \n",
    "\n",
    "XX\n",
    "\n",
    "**Model equilibrium** \n",
    "\n",
    "XX \n",
    "\n",
    "**Model solution** \n",
    "\n",
    "XX"
   ]
  },
  {
   "cell_type": "markdown",
   "id": "fc91cf13",
   "metadata": {},
   "source": [
    "* _Maximum 4 pages:_ \n",
    "   * _Describe and explain key aspects of the model, equilibrium concept, characterizations and/or solutions. You must also demonstrate an understanding of these elements (e.g. by explaining the ideas of proofs to main results, and/or, how quantitative/numerical results were obtained)._"
   ]
  },
  {
   "cell_type": "markdown",
   "id": "ccbc552d",
   "metadata": {},
   "source": [
    "### Economic interpretation\n",
    "XX"
   ]
  },
  {
   "cell_type": "markdown",
   "id": "ec4ce45e",
   "metadata": {},
   "source": [
    "* _Maximum 2 pages:_ \n",
    "   * _Summarize and explain economic results in more detail._"
   ]
  },
  {
   "cell_type": "markdown",
   "id": "aeec9996",
   "metadata": {},
   "source": [
    "### Paper commentary\n",
    "XX"
   ]
  },
  {
   "cell_type": "markdown",
   "id": "70387581",
   "metadata": {},
   "source": [
    "* _Maximum 1 page: \n",
    "   * Your comments about the paper: modeling assumptions, correctness, suggestions for alternatives or extensions._"
   ]
  },
  {
   "cell_type": "markdown",
   "id": "a324f6e8",
   "metadata": {},
   "source": [
    "## References\n",
    "- Greg Kaplan & Benjamin Moll & Giovanni L. Violante, 2018. \"Monetary Policy According to HANK,\" American Economic Review, vol 108(3), pages 697-743."
   ]
  }
 ],
 "metadata": {
  "kernelspec": {
   "display_name": "Python 3 (ipykernel)",
   "language": "python",
   "name": "python3"
  },
  "language_info": {
   "codemirror_mode": {
    "name": "ipython",
    "version": 3
   },
   "file_extension": ".py",
   "mimetype": "text/x-python",
   "name": "python",
   "nbconvert_exporter": "python",
   "pygments_lexer": "ipython3",
   "version": "3.9.7"
  }
 },
 "nbformat": 4,
 "nbformat_minor": 5
}
