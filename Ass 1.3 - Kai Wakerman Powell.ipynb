{
 "cells": [
  {
   "cell_type": "markdown",
   "id": "9090e360",
   "metadata": {},
   "source": [
    "# Assignment 1.3\n",
    "## Kai Wakerman Powell - u4524587"
   ]
  },
  {
   "cell_type": "markdown",
   "id": "28e9062d",
   "metadata": {},
   "source": [
    "### Question 1\n",
    "_Show that for each firm i, cost-minimizing production implies that Wt = M Ct. Also,\n",
    "derive the first-order condition for the firm’s optimal pricing strategy. (Interpret in\n",
    "plain English what these conditions mean.)_\n",
    "\n",
    "The firm's cost minimisation function is given by $f = \\min_{N_{t}(i)}{W_t N_t(i) + MC_t [Y_t(i)-N_t(i)]}$\n",
    "\n",
    "Taking the derivative with respect to the labour supply yields $\\frac{\\partial f}{\\partial N_t(i)} = W_t - MC_t$.\n",
    "\n",
    "Setting the FOC equal to 0 and rearranging this gives $W_t = MC_t$."
   ]
  },
  {
   "cell_type": "markdown",
   "id": "d27ecca9",
   "metadata": {},
   "source": [
    "Going forward I replace $P_t(i)$ with $p_t$ to represent the firm's pricing. And $Y_t(i)$ with $y_t$ in a similar format.\n",
    "\n",
    "Subbing in the firm-specific demand function, the firm production function and the marginal cost terms into the firm's Bellman equation yields:\n",
    " $$ V[p_{t-1},Y_t] = \\max_{p_t}{\\frac{(p_t-MC_t)}{P_t}(\\frac{p_t}{P_t})^{-\\epsilon}Y_t-\\frac{\\theta}{2}(\\frac{p_t}{p_{t-1}}-\\Pi)^2}(\\frac{p_t}{P_t})^{-\\epsilon}Y_t+\\beta\\mathbb{E}_t V[p_{t},Y_{t+1}]$$\n",
    "\n",
    "The optimal pricing is given by the Euler $V'[p_{t-1}, Y_t]$\n",
    "\n",
    "Taking the derivative of the current-value element of the Bellman we get:\n",
    "$$ Y_{t} θ ϵ \\left(\\frac{p_{t}}{P_{t}}\\right)^{- ϵ - 1} \\left(\\frac{p_{t}}{p_{t-1}} - Π\\right)^{2} (2 P_{t})^{-1} + Y_{t} θ ϵ \\left(\\frac{p_{t}}{P_{t}}\\right)^{- ϵ - 1} \\left(\\frac{p_{t}}{p_{t-1}} - Π\\right) P_{t}^{-1} + Y_{t} ϵ^{2} \\left(\\frac{p_{t}}{P_{t}}\\right)^{- 2 ϵ - 2} \\left(- MC + p_{t}\\right) P_{t}^{-2}$$\n",
    "\n",
    "Rolling forward and taking the envalope condition of the Bellman gives: \n",
    "\n",
    "$$Y_{t+1} p_{t+1} θ \\left(- Π + \\frac{p_{t+1}}{p_{t}}\\right) p_{t}^{-2} $$\n",
    "\n",
    "Combing these back into the Euler form yeilds:\n",
    "\n",
    "$$ \\frac{\\partial V[p_{t}]}{\\partial p_{t}} = Y_{t} θ ϵ \\left(\\frac{p_{t}}{P_{t}}\\right)^{- ϵ - 1} \\left(\\frac{p_{t}}{p_{t-1}} - Π\\right)^{2} (2 P_{t})^{-1} + Y_{t} θ ϵ \\left(\\frac{p_{t}}{P_{t}}\\right)^{- ϵ - 1} \\left(\\frac{p_{t}}{p_{t-1}} - Π\\right) P_{t}^{-1} + Y_{t} ϵ^{2} \\left(\\frac{p_{t}}{P_{t}}\\right)^{- 2 ϵ - 2} \\left(- MC + p_{t}\\right) P_{t}^{-2} + \\beta \\mathbb{E}_{t} Y_{t+1} p_{t+1} θ \\left(- Π + \\frac{p_{t+1}}{p_{t}}\\right) p_{t}^{-2} $$\n",
    "\n",
    "Trying to make sense of this yields:\n",
    "\n",
    "$$ Y_{t+1} p_{t+1} β \\mathbb{E}   θ \\left(- Π + \\frac{p_{t+1}}{p_{t}}\\right) p_{t}^{-2} + Y_{t} θ ϵ \\left(\\frac{p_{t}}{P_{t}}\\right)^{- ϵ - 1} \\left(\\frac{p_{t}}{p_{t-1}} - Π\\right)^{2} 2^{-1} P_{t}^{-1} + Y_{t} θ ϵ \\left(\\frac{p_{t}}{P_{t}}\\right)^{- ϵ - 1} \\left(\\frac{p_{t}}{p_{t-1}} - Π\\right) P_{t}^{-1} + Y_{t} ϵ^{2} \\left(\\frac{p_{t}}{P_{t}}\\right)^{- 2 ϵ - 2} \\left(- MC + p_{t}\\right) P_{t}^{-2} $$\n"
   ]
  },
  {
   "cell_type": "markdown",
   "id": "418909ae",
   "metadata": {},
   "source": [
    "### Question 2\n",
    "_Show that the necessary equilibrium conditions are..._\n"
   ]
  },
  {
   "cell_type": "markdown",
   "id": "ee79a7d4",
   "metadata": {},
   "source": [
    "### Question 3\n",
    "_(a) Solve for the inflation process that satisfies the (approximate) competitive equi-\n",
    "librium conditions_"
   ]
  },
  {
   "cell_type": "markdown",
   "id": "907fc9e9",
   "metadata": {},
   "source": [
    "_(b)Discuss the qualitative behavior of inflation dynamics arising from this approx-\n",
    "imate solution—i.e., how sensitive is current inflation to output gap movements\n",
    "as a function of the model parameters, θ and α._"
   ]
  },
  {
   "cell_type": "markdown",
   "id": "c34811fa",
   "metadata": {},
   "source": [
    "### Question 4\n",
    "_Design an algorithm—i.e., write a pseudocode—for finding the fixed point solution\n",
    "to the functional equation._"
   ]
  },
  {
   "cell_type": "code",
   "execution_count": null,
   "id": "5a239a50",
   "metadata": {},
   "outputs": [],
   "source": []
  }
 ],
 "metadata": {
  "kernelspec": {
   "display_name": "Python 3 (ipykernel)",
   "language": "python",
   "name": "python3"
  },
  "language_info": {
   "codemirror_mode": {
    "name": "ipython",
    "version": 3
   },
   "file_extension": ".py",
   "mimetype": "text/x-python",
   "name": "python",
   "nbconvert_exporter": "python",
   "pygments_lexer": "ipython3",
   "version": "3.9.7"
  }
 },
 "nbformat": 4,
 "nbformat_minor": 5
}
