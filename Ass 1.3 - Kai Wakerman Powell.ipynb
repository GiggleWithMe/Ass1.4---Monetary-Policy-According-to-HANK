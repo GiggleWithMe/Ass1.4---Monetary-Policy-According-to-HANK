{
 "cells": [
  {
   "cell_type": "markdown",
   "id": "9090e360",
   "metadata": {},
   "source": [
    "# Assignment 1.3\n",
    "## Kai Wakerman Powell - u4524587"
   ]
  },
  {
   "cell_type": "code",
   "execution_count": 1,
   "id": "5288abed",
   "metadata": {},
   "outputs": [],
   "source": [
    "import matplotlib.pyplot as plt\n",
    "import numpy as np"
   ]
  },
  {
   "cell_type": "markdown",
   "id": "28e9062d",
   "metadata": {},
   "source": [
    "### Question 1\n",
    "_Show that for each firm i, cost-minimizing production implies that Wt = M Ct. Also,\n",
    "derive the first-order condition for the firm’s optimal pricing strategy. (Interpret in\n",
    "plain English what these conditions mean.)_\n",
    "\n",
    "The firm's cost minimisation function is given by $f = \\min_{N_{t}(i)}{W_t N_t(i) + MC_t [Y_t(i)-N_t(i)]}$\n",
    "\n",
    "Taking the derivative with respect to the labour supply yields $\\frac{\\partial f}{\\partial N_t(i)} = W_t - MC_t$.\n",
    "\n",
    "Setting the FOC equal to 0 and rearranging this gives $W_t = MC_t$."
   ]
  },
  {
   "cell_type": "markdown",
   "id": "d27ecca9",
   "metadata": {},
   "source": [
    "Going forward I replace $P_t(i)$ with $p_t$ to represent the firm's pricing. And $Y_t(i)$ with $y_t$ in a similar format. Mainly because working in the original notation led to too many errors and is needlessly confusing.\n",
    "\n",
    "Subbing in the firm-specific demand function, the firm production function and the marginal cost terms into the firm's Bellman equation yields:\n",
    " $$ V[p_{t-1},Y_t] = \\max_{p_t}{\\frac{(p_t-MC_t)}{P_t}(\\frac{p_t}{P_t})^{-\\epsilon}Y_t-\\frac{\\theta}{2}(\\frac{p_t}{p_{t-1}}-\\Pi)^2}(\\frac{p_t}{P_t})^{-\\epsilon}Y_t+\\beta\\mathbb{E}_t V[p_{t},Y_{t+1}]$$\n",
    "\n",
    "The optimal pricing is given by the Euler $V'[p_{t-1}, Y_t]$\n",
    "\n",
    "Taking the derivative of the current-value element of the Bellman we get:\n",
    "$$ Y_{t} θ ϵ \\left(\\frac{p_{t}}{P_{t}}\\right)^{- ϵ - 1} \\left(\\frac{p_{t}}{p_{t-1}} - Π\\right)^{2} (2 P_{t})^{-1} + Y_{t} θ ϵ \\left(\\frac{p_{t}}{P_{t}}\\right)^{- ϵ - 1} \\left(\\frac{p_{t}}{p_{t-1}} - Π\\right) P_{t}^{-1} + Y_{t} ϵ^{2} \\left(\\frac{p_{t}}{P_{t}}\\right)^{- 2 ϵ - 2} \\left(- MC + p_{t}\\right) P_{t}^{-2}$$\n",
    "\n",
    "Rolling forward and taking the envalope condition of the Bellman gives: \n",
    "\n",
    "$$Y_{t+1} p_{t+1} θ \\left(- Π + \\frac{p_{t+1}}{p_{t}}\\right) p_{t}^{-2} $$\n",
    "\n",
    "Combing these back into the Euler form yeilds:\n",
    "\n",
    "$$ \\frac{\\partial V[p_{t}]}{\\partial p_{t}} = Y_{t} θ ϵ \\left(\\frac{p_{t}}{P_{t}}\\right)^{- ϵ - 1} \\left(\\frac{p_{t}}{p_{t-1}} - Π\\right)^{2} (2 P_{t})^{-1} + Y_{t} θ ϵ \\left(\\frac{p_{t}}{P_{t}}\\right)^{- ϵ - 1} \\left(\\frac{p_{t}}{p_{t-1}} - Π\\right) P_{t}^{-1} + Y_{t} ϵ^{2} \\left(\\frac{p_{t}}{P_{t}}\\right)^{- 2 ϵ - 2} \\left(- MC + p_{t}\\right) P_{t}^{-2} $$\n",
    "$$+ \\beta \\mathbb{E}_{t} Y_{t+1} p_{t+1} θ \\left(- Π + \\frac{p_{t+1}}{p_{t}}\\right) p_{t}^{-2} $$\n",
    "\n",
    "_On a personal level, this math was hell._\n",
    "\n",
    "Trying to make sense of this yields:\n",
    "\n",
    "$$ β \\mathbb{E}_t \\frac{p_{t+1}}{p_{t}^{2}}   θ \\left(\\frac{p_{t+1}}{p_{t}} - Π \\right)  Y_{t+1} + \\frac{P_{t}^{-1} Y_{t} θ ϵ \\left(\\frac{p_{t}}{P_{t}}\\right)^{- ϵ - 1} \\left(\\frac{p_{t}}{p_{t-1}} - Π\\right)^{2}}{2} $$\n",
    "$$+ P_{t}^{-1} Y_{t} θ ϵ \\left(\\frac{p_{t}}{P_{t}}\\right)^{- ϵ - 1} \\left(\\frac{p_{t}}{p_{t-1}} - Π\\right) + P_{t}^{-2} Y_{t} ϵ^{2} \\left(\\frac{p_{t}}{P_{t}}\\right)^{- 2 ϵ - 2} \\left(- MC + p_{t}\\right)\n",
    "$$\n"
   ]
  },
  {
   "cell_type": "markdown",
   "id": "418909ae",
   "metadata": {},
   "source": [
    "### Question 2\n",
    "_Show that the necessary equilibrium conditions are..._\n",
    "\n",
    "Recognising that with symmetric pricing that $p_t$ = $P_t$, and $y_t = Y_t$, and using the definition $\\Pi_t = P_t/P_{t+1}$, subbing into the Euler equation we can rework the equation into something that looks a bit like the the ying-yang form which is our aggregate supply function given all firms behave the same:\n",
    "\n",
    "$$ - Π + Π_{t} + \\frac{\\left(- Π + Π_{t}\\right)^{2}}{2} + β \\mathbb{E}_t\\big(\\frac{Y_{t+1}}{Y_{t}}  Π_{t+1}  \\left(Π_{t+1}- Π\\right)\\big) + \\frac{ϵ}{θ} \\big(1 - \\delta Y_t\\big)$$\n",
    "\n",
    "_NB: I notice I cannot get exactly to the ying-yang form. I think this stems from an error somewhere along the way, but I can't pinpoint it in the time remaining._\n",
    "\n",
    "Combining this with the aggregate demand function, which is given as the stochastic process:\n",
    "$Y_{t+1} = (\\bar{Y})^{1-\\alpha}(Y_t)^\\alpha e^{Z_{t+1}}$.\n",
    "\n",
    "The equlibrium market conditions are therefore these two conditions.\n"
   ]
  },
  {
   "cell_type": "markdown",
   "id": "ee79a7d4",
   "metadata": {},
   "source": [
    "### Question 3\n",
    "_(a) Solve for the inflation process that satisfies the (approximate) competitive equilibrium conditions_\n",
    "\n",
    "Subbing in all the equations mentioned in the question, we get $\\pi_t = \\beta\\mathbb{E}_t\\pi_t+\\frac{\\delta\\epsilon}{\\theta}x_t$.\n",
    "\n",
    "Rolling forward this structure we get $\\mathbb{E}_t\\pi_{t+1} = \\beta\\mathbb{E}_t\\pi_{t+2} + \\frac{\\epsilon\\delta}{\\theta}(x_{t+1})$. Subbing in our stochastic process we get $x_{t+1} = ln\\big(\\frac{Y_{t+1}}{\\bar{Y}}\\big) = \\alpha ln(\\frac{Y_t}{\\bar{Y}} + z_{t+1}\\big).$ Though since $\\mathbb{E}_t(z_{T>t})=0$, we can ignore this element. Therefore we get $x_{t+1}=\\alpha x_t$, which we can sub back in to $\\mathbb{E}_t\\pi_{t+1} = \\beta\\mathbb{E}_t\\pi_{t+2} + \\frac{\\epsilon\\delta}{\\theta}(\\alpha x_t)$.\n",
    "\n",
    "Repeating this process, we get for $i>1$: $\\mathbb{E}_t\\pi_{t+i} = \\beta^{1+i}\\pi_{t+i+1}+\\frac{\\beta^{1+i}\\epsilon\\delta\\alpha^{1+i}}{\\theta}x_t$.\n",
    "\n",
    "So for three steps in we get something like: $\\mathbb{E}_t\\pi_{t+1} = \\beta^3\\mathbb{E}_t\\pi_{t+4}+\\frac{x_t\\epsilon\\delta}{\\theta}(\\beta^2\\alpha^3+\\beta\\alpha^2+\\alpha)$.\n",
    "\n",
    "Which looks a lot like the sum of an infinite series, which yields the primary $A = \\frac{x_t\\epsilon\\delta}{\\theta}$ and a growth rate of $R = \\frac{\\beta\\alpha^2}{\\alpha} = \\beta\\alpha$ which generates $\\frac{x_t\\epsilon\\delta}{\\theta}\\frac{1}{1-\\beta\\alpha}=\\frac{\\epsilon\\delta}{\\theta(1-\\beta\\alpha)} x_t$ as the geometric series sums to $\\infty$ since $\\alpha,\\beta\\in(0,1)$ therefore $\\alpha\\beta<1$.\n",
    "\n",
    "Which leaves the linear form $\\pi_t = 0 + \\frac{\\epsilon\\delta}{\\theta(1-\\beta\\alpha)} x_t$.\n",
    "\n",
    "This intuitively makes sense. When the current output gap is zero, there should not be a change in the inflation rate $(\\pi_t)$. A non-zero constant would imply a constantly accelerating or decelerating inflation rate.\n",
    "\n",
    "Given all values are positive, α and β are both $\\in (0,1)$ there is always a positive coefficient for $x_t$, implying that positive demand shocks increase inflation and negative demand shocks decrease inflation."
   ]
  },
  {
   "cell_type": "markdown",
   "id": "591a19ca",
   "metadata": {},
   "source": [
    "_(b)Discuss the qualitative behavior of inflation dynamics arising from this approximate solution—i.e., how sensitive is current inflation to output gap movements as a function of the model parameters, θ and α._\n",
    "\n",
    "__β - discount factor__\n",
    "In this model, increasing the discount factor decreases the sensitivity of inflation to output gap shocks. Increasing the discount factor decreases the denominator of the $x_t$ coefficient. The impact of the discount factor is further attenuated by the α — the persistance of shocks over the long-term. This make intuitive sense. If there is no persistence of shock, there is no reason to anticipate it in the future or to consider it in your actions. Conversely, if α is 1, then the discount factor is maximally impactful.\n",
    "\n",
    "Though overall, the effect of the discount factor, which necessarily sits between 0 and 1, and it attenuated by another variable which is less than one, is relatively minor."
   ]
  },
  {
   "cell_type": "code",
   "execution_count": 2,
   "id": "428515b1",
   "metadata": {
    "scrolled": true
   },
   "outputs": [
    {
     "data": {
      "text/plain": [
       "Text(0.5, 1.0, 'β = 0.9')"
      ]
     },
     "execution_count": 2,
     "metadata": {},
     "output_type": "execute_result"
    },
    {
     "data": {
      "image/png": "[encoded data removed]",
      "text/plain": [
       "<Figure size 432x288 with 2 Axes>"
      ]
     },
     "metadata": {
      "needs_background": "light"
     },
     "output_type": "display_data"
    }
   ],
   "source": [
    "def inf_fig(x, α = 0.75, β = 0.5, δ = 2, ϵ = 3, θ = 4):\n",
    "    y = (ϵ*δ/(θ-β*α))*x\n",
    "    return y\n",
    "\n",
    "x = np.linspace(-10, 10, 100)\n",
    "y_1 = inf_fig(x, β=0.1)\n",
    "y_2 = inf_fig(x, β=0.9)\n",
    "\n",
    "fig, (ax1, ax2) = plt.subplots(1, 2, sharey = True)\n",
    "fig.suptitle('The effect of β')\n",
    "ax1.plot(x,y_1)\n",
    "ax1.set_title(\"β = 0.1\")\n",
    "ax2.plot(x,y_2)\n",
    "ax2.set_title(\"β = 0.9\")"
   ]
  },
  {
   "cell_type": "markdown",
   "id": "b24a88ca",
   "metadata": {},
   "source": [
    "__θ - price adjustment costs__\n",
    "In this model, increasing the price adjustment cost decreases the sensitivity of inflation to output gap shocks. Increasing the price adjustment costs decreases the denominator of the $x_t$ coefficient and vice versa. The impact of the price cost adjustment is partially attenuated by the α and β variables, though not as directly as β is, above. Additionally, the price adjustment cost isn't capped, and can increase infinitely. This intutively makes sense: The larger the cost of adjusting prices, the more expensive it is to respond to the same size shocks with a price increase.\n",
    "\n",
    "Accordingly, increasing θ 9-times, as with the previous example, has a much more dramatic effect:"
   ]
  },
  {
   "cell_type": "code",
   "execution_count": 3,
   "id": "858b86b3",
   "metadata": {},
   "outputs": [
    {
     "data": {
      "text/plain": [
       "Text(0.5, 1.0, 'θ = 90')"
      ]
     },
     "execution_count": 3,
     "metadata": {},
     "output_type": "execute_result"
    },
    {
     "data": {
      "image/png": "[encoded data removed]",
      "text/plain": [
       "<Figure size 432x288 with 2 Axes>"
      ]
     },
     "metadata": {
      "needs_background": "light"
     },
     "output_type": "display_data"
    }
   ],
   "source": [
    "y_1 = inf_fig(x, θ=10)\n",
    "y_2 = inf_fig(x, θ=90)\n",
    "\n",
    "fig, (ax1, ax2) = plt.subplots(1, 2, sharey = True)\n",
    "fig.suptitle('The effect of θ')\n",
    "ax1.plot(x,y_1)\n",
    "ax1.set_title(\"θ = 10\")\n",
    "ax2.plot(x,y_2)\n",
    "ax2.set_title(\"θ = 90\")"
   ]
  },
  {
   "cell_type": "markdown",
   "id": "c34811fa",
   "metadata": {},
   "source": [
    "### Question 4\n",
    "_Design an algorithm—i.e., write a pseudocode—for finding the fixed point solution to the functional equation._\n",
    "\n",
    "1. Assume based on the question that there is a valid fixed point solution tot he functional equation and/or use the Blackwell Sufficiency Conditions.\n",
    "2. Create a Bellman operator — T — which rolls the current state variable forward. It will take the functional equation and the stochastic shock process.\n",
    "3. Set two break conditions: N iterations, and ε accepted error.\n",
    "4. Initialise the parameters for the model, storage variables, and model functions.\n",
    "5. For $n \\leq N$  loop over the state space with the Bellman functional operator, storing the interpolated function which solves the functional form over the state space.\n",
    "6. Test the supnorm distance between the $n-1$ functional operator and the $n$ function. If the didtance between the two functions is less than the targetted error, stop the function, else loop to $n+1$.\n"
   ]
  }
 ],
 "metadata": {
  "kernelspec": {
   "display_name": "Python 3 (ipykernel)",
   "language": "python",
   "name": "python3"
  },
  "language_info": {
   "codemirror_mode": {
    "name": "ipython",
    "version": 3
   },
   "file_extension": ".py",
   "mimetype": "text/x-python",
   "name": "python",
   "nbconvert_exporter": "python",
   "pygments_lexer": "ipython3",
   "version": "3.9.7"
  }
 },
 "nbformat": 4,
 "nbformat_minor": 5
}
