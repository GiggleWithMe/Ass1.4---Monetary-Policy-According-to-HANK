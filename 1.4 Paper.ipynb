{
 "cells": [
  {
   "cell_type": "markdown",
   "id": "3782a968",
   "metadata": {},
   "source": [
    "# Monetary Policy According to HANK (Kaplan et. al, 2018)\n",
    "## A critical review\n",
    "#### Chris Mornement, Alice Shen, Kai Wakerman Powell"
   ]
  },
  {
   "attachments": {},
   "cell_type": "markdown",
   "id": "8f8ca3c4",
   "metadata": {},
   "source": [
    "### Summary\n",
    "**Quick summary**\n",
    "\n",
    "- Comparative rather than descriptive paper. All results contrasted against (a) empirical results, and (b) RANK model\n",
    "- The drive of this paper is to trace the impact of the interest rate to household consumption\n",
    "- Adds:\n",
    "    1. heterogenous agents\n",
    "    2. Two types of intertemporal assets, one of which is illiquid\n",
    "- The result is that _most_ of the transmission is through the indirect labour market/productive sector, rather than through the consumer Euler equation in RANK\n",
    "\n",
    "- Compares a heterogenous agent model to a representative agent model\n",
    "- Creates realistic distributions of wealth and propensity to consume driven by\n",
    "    ○ Different degrees of liquidity and different returns amongst assets\n",
    "- This model, the indirect effects of interest rates operate through the labour market/the productive sector\n",
    "\n",
    "**Issues & questions raised in the paper**\n",
    "- The drive of this paper is to trace the impact of the interest rate to household consumption\n",
    "- In typical NKM (RANK), the interest rate changes intertemporal substitution.\n",
    "\t- The impacts are traced entirely through the Euler equation of the representative household\n",
    "\t- However, the strong effect doesn't line up with empirical observation\n",
    "\t- The is partly due to households having low liquidity and high borrowing rates, and therefore at a 'kink' in their budget set.\n",
    "- The empirical evidence shows the quarterly marginal propensity to consume of 25 per cent from government transfers with a high degree of heterogeneity.\n",
    "- This builds their case that the RANK model needs more heterogeneity since it doesn't match observed behaviours\n",
    "\n",
    "**Key features of the model**\n",
    "- Builds on the \"standard\" Aiyagari-Huggett-Imrohoroglu incomplete markets model but adds two assets for saving.\n",
    "\t- Is consistent with liquid and illiquid wealth\n",
    "\t- Allows the sizable MPC\n",
    "\t- Supply side prices are set by monopolistic competitive producers who face nominal rigidities\n",
    "\t- Monetary policy follows a Taylor rule.\n",
    "\t- Solved in continuous time rather than discrete time.\n",
    "\n",
    "**Results of the paper**\n",
    "- In contrast with RANK models, the impact of the direct effects (making intertemporal substitution more/less expensive) are small, while the indirect effects through the labour market are large.\n",
    "- The combination of uninsurable risk along with illiquid assets results in a large proportion of both wealthy and poor households that live hand-to-mouth as in the empirical data.\n",
    "- A second result is that monetary and fiscal sides are intertwined since the government is the major issuer of liquid obligations. A change in interest rates therefore generates some form of fiscal response. This results in a breakdown in Ricardian equivalence.\n",
    "- Policy results:\n",
    "\t- Monetary authorities can pick between large and transitory interest rate shocks, and small and persistent interest rate hikes. In RANK models, these are the same. In a HANK model, a large hard shock is more effective.\n",
    "\t- In the HANK model, if government absorb the change in interest rates it assists the monetary authority in its goals.\n",
    "- In the RANK model, it is easier for the monetary authority to booth aggregate consumption. In a HANK model, it is more difficult to target"
   ]
  },
  {
   "cell_type": "markdown",
   "id": "5d9c44e0",
   "metadata": {},
   "source": [
    "* _Maximum 1 page:_ \n",
    "   * _Quick summary of (i) Issue/Question raised in the paper; (ii) Key Features of the Model; and (iii) Results of the paper._"
   ]
  },
  {
   "cell_type": "markdown",
   "id": "ea6eb882",
   "metadata": {},
   "source": [
    "### Model approach\n",
    "\n",
    "**Key aspects** \n",
    "\n",
    "XX\n",
    "\n",
    "**Model equilibrium** \n",
    "\n",
    "XX \n",
    "\n",
    "**Model solution** \n",
    "\n",
    "XX"
   ]
  },
  {
   "cell_type": "markdown",
   "id": "fc91cf13",
   "metadata": {},
   "source": [
    "* _Maximum 4 pages:_ \n",
    "   * _Describe and explain key aspects of the model, equilibrium concept, characterizations and/or solutions. You must also demonstrate an understanding of these elements (e.g. by explaining the ideas of proofs to main results, and/or, how quantitative/numerical results were obtained)._\n",
    "   \n",
    "   \n",
    "   \n",
    " * Useful tips for demonstrating critical reading and comprehension: Imagine trying to do a \"tear down\" of the whole paper. What are the key questions? What makes them interesting for the authors? Does the theory/empirical method serve a greater purpose? Can you replicate or at least map out the steps, essential \"tricks\" or methods that \"make the paper tick\"? What happens to main insights if a key assumption is removed? How does the approach relate to and/or depart from our understanding of a basic, neoclassical, or Walrasian-equilibrium template of the macroeconomy? Now explain how these things work to your nonna who has a bachelor's degree from l'École Polytechnique in 1956. (You'll have to be more profound and incisive in your writing than just summarizing punchlines on a popular-readership blog.)"
   ]
  },
  {
   "cell_type": "markdown",
   "id": "ccbc552d",
   "metadata": {},
   "source": [
    "### Economic interpretation\n",
    "XX"
   ]
  },
  {
   "cell_type": "markdown",
   "id": "ec4ce45e",
   "metadata": {},
   "source": [
    "* _Maximum 2 pages:_ \n",
    "   * _Summarize and explain economic results in more detail._"
   ]
  },
  {
   "cell_type": "markdown",
   "id": "aeec9996",
   "metadata": {},
   "source": [
    "### Paper commentary\n",
    "XX"
   ]
  },
  {
   "cell_type": "markdown",
   "id": "70387581",
   "metadata": {},
   "source": [
    "* _Maximum 1 page: \n",
    "   * Your comments about the paper: modeling assumptions, correctness, suggestions for alternatives or extensions._"
   ]
  },
  {
   "cell_type": "markdown",
   "id": "a324f6e8",
   "metadata": {},
   "source": [
    "## References\n",
    "- Greg Kaplan & Benjamin Moll & Giovanni L. Violante, 2018. \"Monetary Policy According to HANK,\" American Economic Review, vol 108(3), pages 697-743."
   ]
  }
 ],
 "metadata": {
  "kernelspec": {
   "display_name": "Python 3 (ipykernel)",
   "language": "python",
   "name": "python3"
  },
  "language_info": {
   "codemirror_mode": {
    "name": "ipython",
    "version": 3
   },
   "file_extension": ".py",
   "mimetype": "text/x-python",
   "name": "python",
   "nbconvert_exporter": "python",
   "pygments_lexer": "ipython3",
   "version": "3.9.7"
  }
 },
 "nbformat": 4,
 "nbformat_minor": 5
}
