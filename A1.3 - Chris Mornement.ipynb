{
 "cells": [
  {
   "cell_type": "markdown",
   "metadata": {},
   "source": [
    "# Assignment 1.3 : New-Keynesian PE model\n",
    "### Chris Mornement (u5185172@anu.edu.au)"
   ]
  },
  {
   "cell_type": "markdown",
   "metadata": {},
   "source": [
    "![title](img/Assignment3preface.PNG)"
   ]
  },
  {
   "cell_type": "markdown",
   "metadata": {},
   "source": [
    "## Question 1\n",
    "**Show that for each firm $i$, cost-minimising production implies that $W_{t} = MC_{t}$. Also, derive the first-order condition for the firm's optimal pricing strategy. (Interpret in plain English what these conditions mean.)**"
   ]
  },
  {
   "cell_type": "code",
   "execution_count": null,
   "metadata": {},
   "outputs": [],
   "source": []
  },
  {
   "cell_type": "markdown",
   "metadata": {},
   "source": [
    "## Question 2\n",
    "**Consider a symmetric-pricing competitive equilibrium: Firms optimally choose the same pricing startegy, so that $P_{t}(i) = P_{t}$, and demand equals supply in all markets. Let $\\Pi_{t}:= P_{t}/P_{t+1}$ denote gross inflation, and, $MC_{t}$ denote nominal marginal cost. Show that the necessary equilibrium conditions are (the equation for $Y_{t+1}$) and:**\n",
    "\n",
    "$$\n",
    "\\Pi_{t}(\\Pi_{t} - \\Pi) - \\frac{\\epsilon}{2}(\\Pi_{t} - \\Pi)^{2} = \\beta \\mathbb{E}_{t} \\big\\{ ( \\Pi_{t+1} - \\Pi) \\Pi_{t+1} \\frac{Y_{t+1}}{Y_{t}} \\big\\} + \\frac{\\epsilon}{\\theta} \\big[ \\frac{MC_{t}}{P_{t}} - \\big( \\frac{\\epsilon - 1}{\\epsilon} \\big) \\big]\n",
    "$$\n",
    "\n",
    "**where we may assume that $MC_{t}/P_{t} = \\delta Y_{t}$ and $\\delta > 0$. (Think of this as an endowment general equilibrium problem where demand $Y_{t}$ faced by firms is exogenously determined.)**"
   ]
  },
  {
   "cell_type": "markdown",
   "metadata": {},
   "source": [
    "<span style=\"color:darkgreen\">\n",
    "\n",
    "*Answer:*\n",
    "\n",
    "Taking the following symmetric-pricing competitive equilibrium assumptions for substituion into the FOC established in Q1:\n",
    "- $P_{t}(i) = P_{t}$"
   ]
  },
  {
   "cell_type": "code",
   "execution_count": null,
   "metadata": {},
   "outputs": [],
   "source": []
  }
 ],
 "metadata": {
  "kernelspec": {
   "display_name": "Python 3",
   "language": "python",
   "name": "python3"
  },
  "language_info": {
   "codemirror_mode": {
    "name": "ipython",
    "version": 3
   },
   "file_extension": ".py",
   "mimetype": "text/x-python",
   "name": "python",
   "nbconvert_exporter": "python",
   "pygments_lexer": "ipython3",
   "version": "3.7.3"
  }
 },
 "nbformat": 4,
 "nbformat_minor": 2
}
